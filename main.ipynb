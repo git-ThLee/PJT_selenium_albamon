{
 "cells": [
  {
   "cell_type": "code",
   "execution_count": 2,
   "metadata": {},
   "outputs": [],
   "source": [
    "import pandas as pd "
   ]
  },
  {
   "cell_type": "code",
   "execution_count": 5,
   "metadata": {},
   "outputs": [
    {
     "name": "stdout",
     "output_type": "stream",
     "text": [
      "<class 'pandas.core.frame.DataFrame'>\n",
      "RangeIndex: 299 entries, 0 to 298\n",
      "Data columns (total 16 columns):\n",
      " #   Column  Non-Null Count  Dtype \n",
      "---  ------  --------------  ----- \n",
      " 0   회사      299 non-null    object\n",
      " 1   제목      299 non-null    object\n",
      " 2   마감일     299 non-null    object\n",
      " 3   인원      299 non-null    object\n",
      " 4   성별      299 non-null    object\n",
      " 5   연령      299 non-null    object\n",
      " 6   학력      299 non-null    object\n",
      " 7   우대사항    189 non-null    object\n",
      " 8   급여      299 non-null    object\n",
      " 9   근무기간    299 non-null    object\n",
      " 10  근무요일    299 non-null    object\n",
      " 11  근무시간    299 non-null    object\n",
      " 12  업직종     299 non-null    object\n",
      " 13  고용형태    299 non-null    object\n",
      " 14  복리후생    108 non-null    object\n",
      " 15  모집분야    38 non-null     object\n",
      "dtypes: object(16)\n",
      "memory usage: 37.5+ KB\n"
     ]
    }
   ],
   "source": [
    "result_df = pd.read_csv('2022-11-30.csv')\n",
    "result_df.info()"
   ]
  },
  {
   "cell_type": "code",
   "execution_count": 37,
   "metadata": {},
   "outputs": [
    {
     "data": {
      "text/plain": [
       "건별    138\n",
       "시급     73\n",
       "월급     65\n",
       "연봉     10\n",
       "일급      9\n",
       "주급      4\n",
       "Name: 급여형태, dtype: int64"
      ]
     },
     "execution_count": 37,
     "metadata": {},
     "output_type": "execute_result"
    }
   ],
   "source": [
    "# 급여형태 생성\n",
    "result_df['급여형태'] = result_df['급여'].apply(lambda x : x[:2])\n",
    "result_df['급여형태'].value_counts()"
   ]
  },
  {
   "cell_type": "code",
   "execution_count": 46,
   "metadata": {},
   "outputs": [
    {
     "name": "stdout",
     "output_type": "stream",
     "text": [
      "64\n",
      "무료로 영어실력 확인하고, 집에서 용돈 벌자\n",
      "[교육지대] [재택] 중고등 국어,영어 타이핑 작업자 모집 공고\n",
      "[ETRI] 인공지능 학습용 이미지 촬영 아르바이트 모집 (재택근무)\n",
      "(급구)제페토 게임 체험 알바 2차(단순 접속이 잘 되는지 테스트)\n",
      "[재택근무] 인물 프리랜서 작가를 모집합니다\n",
      "## 아웃소싱 관리직 채용 ##\n",
      "[건당20,000원] 연예인 마케팅 원고작성 재택근무자 모집\n",
      "[재택]온리원 중등 해피콜 단기아르바이트 모집\n",
      "하루2분 2000원 재택알바.주부알바.재택근무.단순알바 구인합니다.\n",
      "네이버 찜알바1000원(재택,1분이면 1000원\n",
      "[카톡 간편 지원/재택]정보성 원고 작성 작가님 모집\n",
      "웹디자이너 카드뉴스(포스팅)이미지 제작 (재택아르바이트 모집)\n",
      "[재택]포스팅 원고 작성 및 포스팅 업로드 아르바이트 모집\n",
      "한국사 강사 모집\n",
      "[편집디자이너 구인] 기존내용에 내용수정만 해주실 편집디자이너 구인\n",
      "[재택근무] 쇼핑몰 상품 단순 업로드직 알바 구함 (부업가능)\n",
      "플레이도우(폼클레이)를 잘 만지는 분을 찾습니다\n",
      "[프리랜서/재택] 웹툰 [중국어] 식자 디자이너 모집\n",
      "[재택근무]온라인쇼핑몰 상품등록알바\n",
      "[재택근무]쇼핑몰 상품 단순 업로드직 알바 구함(부업가능)\n",
      "[재택근무]온라인쇼핑몰 상품등록알바\n",
      "[재택] 상품 사진 촬영 아르바이트\n",
      "[재택근무] 일본어 번역, 내용 확인 및 표현 추가, 후리가나 변환\n",
      "이미지 캡쳐 촬영 아르바이트\n",
      "AI 학습데이터 구축 - 클라우드워커 모집\n",
      "(재택가능) 유튜브 시나리오 에디터를 모집합니다.\n",
      "[재택근무]온라인쇼핑몰 상품등록알바\n",
      "[재택근무]온라인쇼핑몰 상품등록알바\n",
      "영어 자막 제작(srt, vtt자막, 재택 근무, 유경험자 우대)\n",
      "영상촬영 프리랜서 모집\n",
      "[재택근무/인물보정] 포토이즘 인물보정 재택근무자를 모집합니다.\n",
      "유튜브 호기심 채널 프리랜서 대본 작가 구합니다. (대학생 가능)\n",
      "텍스트 형식(기사) 컨텐츠 글 작성 작업자 모집\n",
      "자유롭게 근무하실 프리랜서 디자이너님을 모십니다.\n",
      "센스있는 PPT 디자이너 [프리랜서]님 모십니다.\n",
      "[리서치 단기알바/일일알바] 전화 리서치 / 실태조사 모집\n",
      "해외구매대행 반자동 상품 등록 아르바이트\n",
      "카페영업 직원 구합니다(원두영업 수당10%)\n",
      "[재택근무] 원고작성 글쓰기 알바모집(시간자유/재택알바)\n",
      "[재택/단기/건별] 반려견 옆모습 사진 수집 프로젝트\n",
      "리뷰 알바/ 나이무관 / 재택 / 남녀노소 환영\n",
      "[단기 근무] 전자제품 미스테리쇼퍼 구인\n",
      "연구보고서 작성 재택알바\n",
      "재택부업 - 일상글 포스팅 아르바이트\n",
      "[재택근무] 영어 단어 추가 컨텐츠 작성\n",
      "초,중등 공부방 교사 구함(영어지도만도 가능자)\n",
      "재택아웃바운드 TM업무자 모집합니다.\n",
      "(모집)얼굴 표정 및 머리 움직임 영상 촬영자 모집\n",
      "식품 쇼핑몰 포스팅 및 홍보마케팅 , 재택가능\n",
      "일산거주자중 행사장 다양한 전시 부스들을 스케치업으로 디자인 작업하실분\n",
      "파티용품 검수 제작 OPP포장 부업\n",
      "[재택근무]해외구매대행 쇼핑몰(마켓) 상품 수정/업로드(퍼센티 사용)\n",
      "[재택근무] 리포트샘플, 조사, 작성(바이럴 마케팅X), 초대졸 이상\n",
      "해외온라인마켓 기획 및 상품등록\n",
      "간단한 홈페이지 제작\n",
      "[재택근무] 영어 문장에 대한 단어 및 설명 확인 및 수정 보완\n",
      "[재택근무/프리랜서] 3D Cubiod 입력\n",
      "전국/유아 초등 전과목 코치모집/거주지 방문/온라인 수업/재택가능\n",
      "재택 TM모집, 일 20만원 수입 가능, 1차 컨텍만 하면 끝\n",
      "제품디자인 수정(라이노)\n",
      "[재택] 온라인쇼핑몰 상품 업로드 단순 업무 아르바이트 부업 재택\n",
      "가이드에 맞춘 원고 작성 재택 알바 모집 - 작업 상시 진행\n",
      "재택근무) 쇼핑몰 상품 업로드 알바\n",
      "자율재택근무 문서작성업무 / 경영, 유아 전공 / 경단녀분들 우대\n"
     ]
    }
   ],
   "source": [
    "# 블로그, 인스타, 고수입, 한강\n",
    "remove_titles = [\n",
    "    '블로그','인스타','고수입','한강','500','초보',\\\n",
    "    '창업','풀타이머','쿠팡','400','배달','마사지사',\\\n",
    "    '휴대폰','투잡','300','방청','강원도'\n",
    "    ]\n",
    "\n",
    "print(len(result_df[(result_df['급여형태'] == '건별') & (~result_df['제목'].str.contains('|'.join(remove_titles)))]['제목']))\n",
    "for i in result_df[(result_df['급여형태'] == '건별') & (~result_df['제목'].str.contains('|'.join(remove_titles)))]['제목']:\n",
    "    print(i)\n"
   ]
  }
 ],
 "metadata": {
  "kernelspec": {
   "display_name": "Python 3.10.1 64-bit",
   "language": "python",
   "name": "python3"
  },
  "language_info": {
   "codemirror_mode": {
    "name": "ipython",
    "version": 3
   },
   "file_extension": ".py",
   "mimetype": "text/x-python",
   "name": "python",
   "nbconvert_exporter": "python",
   "pygments_lexer": "ipython3",
   "version": "3.10.1"
  },
  "orig_nbformat": 4,
  "vscode": {
   "interpreter": {
    "hash": "e1d54daf239baa0d08258bc0b12cc3f117e61421667d5d2e43f96de704b4c513"
   }
  }
 },
 "nbformat": 4,
 "nbformat_minor": 2
}
